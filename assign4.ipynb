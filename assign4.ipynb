{
  "nbformat": 4,
  "nbformat_minor": 0,
  "metadata": {
    "colab": {
      "provenance": [],
      "include_colab_link": true
    },
    "kernelspec": {
      "name": "python3",
      "display_name": "Python 3"
    },
    "language_info": {
      "name": "python"
    }
  },
  "cells": [
    {
      "cell_type": "markdown",
      "metadata": {
        "id": "view-in-github",
        "colab_type": "text"
      },
      "source": [
        "<a href=\"https://colab.research.google.com/github/Shrutithakur30/UCS420/blob/main/assign4.ipynb\" target=\"_parent\"><img src=\"https://colab.research.google.com/assets/colab-badge.svg\" alt=\"Open In Colab\"/></a>"
      ]
    },
    {
      "cell_type": "code",
      "execution_count": null,
      "metadata": {
        "id": "erlGN8kVeqnw"
      },
      "outputs": [],
      "source": []
    },
    {
      "cell_type": "markdown",
      "source": [
        "**Q1** Write a program to create a NumPy 1D-array with 5 elements and perform basic operations like"
      ],
      "metadata": {
        "id": "C7w_CkuBf54B"
      }
    },
    {
      "cell_type": "code",
      "source": [
        "import numpy as np\n",
        "arr = np.array([1,2,3,4,5])\n",
        "print(arr)"
      ],
      "metadata": {
        "colab": {
          "base_uri": "https://localhost:8080/"
        },
        "id": "7shLDN8KgfHi",
        "outputId": "0a8522ec-4620-4f6c-e0aa-c39d4fd3a9a0"
      },
      "execution_count": null,
      "outputs": [
        {
          "output_type": "stream",
          "name": "stdout",
          "text": [
            "[1 2 3 4 5]\n"
          ]
        }
      ]
    },
    {
      "cell_type": "markdown",
      "source": [
        "**a)** Addition of 2 in all the element"
      ],
      "metadata": {
        "id": "6Ci5djEZhdQG"
      }
    },
    {
      "cell_type": "code",
      "source": [
        "add = arr+2\n",
        "print(add)"
      ],
      "metadata": {
        "colab": {
          "base_uri": "https://localhost:8080/"
        },
        "id": "0e0fHcOWhmc4",
        "outputId": "77798dae-397d-4713-f567-bc52f2bb3811"
      },
      "execution_count": null,
      "outputs": [
        {
          "output_type": "stream",
          "name": "stdout",
          "text": [
            "[3 4 5 6 7]\n"
          ]
        }
      ]
    },
    {
      "cell_type": "markdown",
      "source": [
        "b) Multiply 3 with all the elements"
      ],
      "metadata": {
        "id": "5U4-3-WJhqfE"
      }
    },
    {
      "cell_type": "code",
      "source": [
        "multiply = arr*3\n",
        "print(multiply)"
      ],
      "metadata": {
        "colab": {
          "base_uri": "https://localhost:8080/"
        },
        "id": "ZeDEv0R5hwin",
        "outputId": "de5979e2-1d18-42ee-987b-f4c5e9ab663b"
      },
      "execution_count": null,
      "outputs": [
        {
          "output_type": "stream",
          "name": "stdout",
          "text": [
            "[ 3  6  9 12 15]\n"
          ]
        }
      ]
    },
    {
      "cell_type": "markdown",
      "source": [
        "c) Divide every element by 2"
      ],
      "metadata": {
        "id": "B5-II64xh7C9"
      }
    },
    {
      "cell_type": "code",
      "source": [
        "div = arr/2\n",
        "print(div)"
      ],
      "metadata": {
        "colab": {
          "base_uri": "https://localhost:8080/"
        },
        "id": "wM9BZoKziEVd",
        "outputId": "fe42ce58-3f44-4d0d-c9a8-dec1cdf236cd"
      },
      "execution_count": null,
      "outputs": [
        {
          "output_type": "stream",
          "name": "stdout",
          "text": [
            "[0.5 1.  1.5 2.  2.5]\n"
          ]
        }
      ]
    },
    {
      "cell_type": "markdown",
      "source": [
        "**Q2** Questions on Basic NumPy Array:\n",
        "\n",
        "a) Reverse the NumPy array: arr = np.array([1, 2, 3, 6, 4, 5])"
      ],
      "metadata": {
        "id": "fQdIwCH5iPOj"
      }
    },
    {
      "cell_type": "code",
      "source": [
        "arr = np.array([1,2,3,4,5,6])\n",
        "np.flip(arr,axis=0)"
      ],
      "metadata": {
        "colab": {
          "base_uri": "https://localhost:8080/"
        },
        "id": "ZYt59sLriZ15",
        "outputId": "f6762bef-55a0-4f61-8f45-92fbca8ed532"
      },
      "execution_count": null,
      "outputs": [
        {
          "output_type": "execute_result",
          "data": {
            "text/plain": [
              "array([6, 5, 4, 3, 2, 1])"
            ]
          },
          "metadata": {},
          "execution_count": 10
        }
      ]
    },
    {
      "cell_type": "markdown",
      "source": [
        "b) Find the most frequent value and their indice(s) in the following arrays"
      ],
      "metadata": {
        "id": "1LeFNoJSiyDM"
      }
    },
    {
      "cell_type": "code",
      "source": [
        "x= np.array([1,2,3,4,5,1,2,1,1,1])\n",
        "print(np.bincount(x).argmax())"
      ],
      "metadata": {
        "colab": {
          "base_uri": "https://localhost:8080/"
        },
        "id": "d9fQmAsii_DS",
        "outputId": "6fb8d37f-2183-4253-d072-1c3dc1ddbcc1"
      },
      "execution_count": null,
      "outputs": [
        {
          "output_type": "stream",
          "name": "stdout",
          "text": [
            "1\n"
          ]
        }
      ]
    },
    {
      "cell_type": "code",
      "source": [
        "y = np.array([1, 1, 1, 2, 3, 4, 2, 4, 3, 3, ])\n",
        "print(np.bincount(y).argmax())"
      ],
      "metadata": {
        "colab": {
          "base_uri": "https://localhost:8080/"
        },
        "id": "_vlv01BfjE-K",
        "outputId": "1fd297e1-750c-420b-fbba-d3ac0eed5313"
      },
      "execution_count": null,
      "outputs": [
        {
          "output_type": "stream",
          "name": "stdout",
          "text": [
            "1\n"
          ]
        }
      ]
    },
    {
      "cell_type": "markdown",
      "source": [
        "**Q3** For the given 2-D array arr=np.array([10, 20, 30], [40, 50, 60], [70, 80, 90]), access elements using row and column indices as follows:"
      ],
      "metadata": {
        "id": "M-O0z4B1jQDN"
      }
    },
    {
      "cell_type": "code",
      "source": [
        "arr=np.array([[10, 20, 30], [40, 50, 60], [70, 80, 90]])\n",
        "print(arr)"
      ],
      "metadata": {
        "colab": {
          "base_uri": "https://localhost:8080/"
        },
        "id": "sshJJ9VfkTbM",
        "outputId": "02592966-78fe-43bf-b396-a4e0c7ef2044"
      },
      "execution_count": null,
      "outputs": [
        {
          "output_type": "stream",
          "name": "stdout",
          "text": [
            "[[10 20 30]\n",
            " [40 50 60]\n",
            " [70 80 90]]\n"
          ]
        }
      ]
    },
    {
      "cell_type": "markdown",
      "source": [
        "a) Access 1st row, 2nd column"
      ],
      "metadata": {
        "id": "hRlAjyiHkbu6"
      }
    },
    {
      "cell_type": "code",
      "source": [
        "arr[0][1]"
      ],
      "metadata": {
        "colab": {
          "base_uri": "https://localhost:8080/"
        },
        "id": "ITHm8QxgkeUC",
        "outputId": "3b318bbb-c81c-4128-abf6-dfb24ceada98"
      },
      "execution_count": null,
      "outputs": [
        {
          "output_type": "execute_result",
          "data": {
            "text/plain": [
              "20"
            ]
          },
          "metadata": {},
          "execution_count": 14
        }
      ]
    },
    {
      "cell_type": "markdown",
      "source": [
        "b) Access 3rd row, 1st column"
      ],
      "metadata": {
        "id": "7yPKq0VBkngh"
      }
    },
    {
      "cell_type": "code",
      "source": [
        "arr[2][0]"
      ],
      "metadata": {
        "colab": {
          "base_uri": "https://localhost:8080/"
        },
        "id": "8GTvdyVClVaH",
        "outputId": "6ab5ffaf-f8de-4b1c-ccde-1cc68e1a81ea"
      },
      "execution_count": null,
      "outputs": [
        {
          "output_type": "execute_result",
          "data": {
            "text/plain": [
              "70"
            ]
          },
          "metadata": {},
          "execution_count": 15
        }
      ]
    },
    {
      "cell_type": "markdown",
      "source": [
        "**Q4** Write program to create an 1-D NumPy array named <> with evenly spaced 25 numbers from 10 to 100 using linspace(). Print the dimensions of the array, shape, total elements, the data type of each element and total number of bytes consumed by the array. Find the transpose of this array using reshape() attribute. Can we do the same with T attribute?"
      ],
      "metadata": {
        "id": "8mDcjEXjlawf"
      }
    },
    {
      "cell_type": "code",
      "source": [
        "shruti=np.array(np.linspace(10,100,num=25))\n",
        "print(shruti)"
      ],
      "metadata": {
        "colab": {
          "base_uri": "https://localhost:8080/"
        },
        "id": "pH47oXj7ligo",
        "outputId": "795fd81a-3600-4619-8965-e4d2c933c6a6"
      },
      "execution_count": null,
      "outputs": [
        {
          "output_type": "stream",
          "name": "stdout",
          "text": [
            "[ 10.    13.75  17.5   21.25  25.    28.75  32.5   36.25  40.    43.75\n",
            "  47.5   51.25  55.    58.75  62.5   66.25  70.    73.75  77.5   81.25\n",
            "  85.    88.75  92.5   96.25 100.  ]\n"
          ]
        }
      ]
    },
    {
      "cell_type": "code",
      "source": [
        "print(\"dimension of the array:\",shruti.ndim)"
      ],
      "metadata": {
        "colab": {
          "base_uri": "https://localhost:8080/"
        },
        "id": "jf_20TMmlzF-",
        "outputId": "4b581d0c-5565-405f-bc94-99c52975e90a"
      },
      "execution_count": null,
      "outputs": [
        {
          "output_type": "stream",
          "name": "stdout",
          "text": [
            "dimension of the array: 1\n"
          ]
        }
      ]
    },
    {
      "cell_type": "code",
      "source": [
        "print(\"shape of the array:\",shruti.shape)"
      ],
      "metadata": {
        "colab": {
          "base_uri": "https://localhost:8080/"
        },
        "id": "3aFGMTRml5Vw",
        "outputId": "874b7d79-7dad-4b11-b53f-ba19d4e924af"
      },
      "execution_count": null,
      "outputs": [
        {
          "output_type": "stream",
          "name": "stdout",
          "text": [
            "shape of the array: (25,)\n"
          ]
        }
      ]
    },
    {
      "cell_type": "code",
      "source": [
        "print(\"total elements of the array:\",np.size(shruti))"
      ],
      "metadata": {
        "colab": {
          "base_uri": "https://localhost:8080/"
        },
        "id": "HQUit1Xil9aq",
        "outputId": "45e944fb-1f59-48cc-adb7-e3ba119d0f32"
      },
      "execution_count": null,
      "outputs": [
        {
          "output_type": "stream",
          "name": "stdout",
          "text": [
            "total elements of the array: 25\n"
          ]
        }
      ]
    },
    {
      "cell_type": "code",
      "source": [
        "print(\"data type of each element\",shruti.dtype)"
      ],
      "metadata": {
        "colab": {
          "base_uri": "https://localhost:8080/"
        },
        "id": "sObgT-VOmB5I",
        "outputId": "05a95e8a-6b95-48dd-8e9d-dbb57341f57c"
      },
      "execution_count": null,
      "outputs": [
        {
          "output_type": "stream",
          "name": "stdout",
          "text": [
            "data type of each element float64\n"
          ]
        }
      ]
    },
    {
      "cell_type": "code",
      "source": [
        "print(\"total bytes of array :\",shruti.nbytes)"
      ],
      "metadata": {
        "colab": {
          "base_uri": "https://localhost:8080/"
        },
        "id": "6UQZnyKjmLU5",
        "outputId": "fca17c49-4f7e-4337-e948-a2a0d54569b8"
      },
      "execution_count": null,
      "outputs": [
        {
          "output_type": "stream",
          "name": "stdout",
          "text": [
            "total bytes of array : 200\n"
          ]
        }
      ]
    },
    {
      "cell_type": "code",
      "source": [
        "shruti.reshape(25,1)"
      ],
      "metadata": {
        "colab": {
          "base_uri": "https://localhost:8080/"
        },
        "id": "1k4jeRUImSxt",
        "outputId": "298d525e-1df0-44d9-b4e7-6648b50bf3e1"
      },
      "execution_count": null,
      "outputs": [
        {
          "output_type": "execute_result",
          "data": {
            "text/plain": [
              "array([[ 10.  ],\n",
              "       [ 13.75],\n",
              "       [ 17.5 ],\n",
              "       [ 21.25],\n",
              "       [ 25.  ],\n",
              "       [ 28.75],\n",
              "       [ 32.5 ],\n",
              "       [ 36.25],\n",
              "       [ 40.  ],\n",
              "       [ 43.75],\n",
              "       [ 47.5 ],\n",
              "       [ 51.25],\n",
              "       [ 55.  ],\n",
              "       [ 58.75],\n",
              "       [ 62.5 ],\n",
              "       [ 66.25],\n",
              "       [ 70.  ],\n",
              "       [ 73.75],\n",
              "       [ 77.5 ],\n",
              "       [ 81.25],\n",
              "       [ 85.  ],\n",
              "       [ 88.75],\n",
              "       [ 92.5 ],\n",
              "       [ 96.25],\n",
              "       [100.  ]])"
            ]
          },
          "metadata": {},
          "execution_count": 22
        }
      ]
    },
    {
      "cell_type": "code",
      "source": [
        "print(\"before transpose :\")\n",
        "print(shruti)\n",
        "print(\"transposed array :\")\n",
        "print(shruti.T) #.T has no effect for 1D array"
      ],
      "metadata": {
        "colab": {
          "base_uri": "https://localhost:8080/"
        },
        "id": "tLCC82HPmhoM",
        "outputId": "36d8dea8-7935-4e87-c8e3-a2a6ba7d9477"
      },
      "execution_count": null,
      "outputs": [
        {
          "output_type": "stream",
          "name": "stdout",
          "text": [
            "before transpose :\n",
            "[ 10.    13.75  17.5   21.25  25.    28.75  32.5   36.25  40.    43.75\n",
            "  47.5   51.25  55.    58.75  62.5   66.25  70.    73.75  77.5   81.25\n",
            "  85.    88.75  92.5   96.25 100.  ]\n",
            "transposed array :\n",
            "[ 10.    13.75  17.5   21.25  25.    28.75  32.5   36.25  40.    43.75\n",
            "  47.5   51.25  55.    58.75  62.5   66.25  70.    73.75  77.5   81.25\n",
            "  85.    88.75  92.5   96.25 100.  ]\n"
          ]
        }
      ]
    },
    {
      "cell_type": "markdown",
      "source": [
        "**Q5** Create a 2-D Array of three rows and four columns, named ucs420_shruti> with following values – 10, 20, 30, 40, 50, 60, 70, 80, 90, 15, 20, 35. Compute the mean, median, max, min, unique elements. Reshape the array to four rows and three columns and name it as reshaped_ ucs420_shruti>. Resize the array to two rows and three columns and name it as resized_ ucs420_shruti>"
      ],
      "metadata": {
        "id": "sA0c-Vq3mpCH"
      }
    },
    {
      "cell_type": "code",
      "source": [
        "ucs420_shruti=np.array([[10,20,30,40],[50,60,70,80],[90,15,20,35]])\n",
        "ucs420_shruti"
      ],
      "metadata": {
        "colab": {
          "base_uri": "https://localhost:8080/"
        },
        "id": "6Ttid4vinBId",
        "outputId": "21a4c2d2-b3f2-436b-9307-4d4b4040eb19"
      },
      "execution_count": null,
      "outputs": [
        {
          "output_type": "execute_result",
          "data": {
            "text/plain": [
              "array([[10, 20, 30, 40],\n",
              "       [50, 60, 70, 80],\n",
              "       [90, 15, 20, 35]])"
            ]
          },
          "metadata": {},
          "execution_count": 24
        }
      ]
    },
    {
      "cell_type": "code",
      "source": [
        "mean=np.mean(ucs420_shruti)\n",
        "print(\"mean of array :\",mean)"
      ],
      "metadata": {
        "colab": {
          "base_uri": "https://localhost:8080/"
        },
        "id": "DxgYfPgDnLPz",
        "outputId": "64306727-80a4-4695-c1ef-2c583940fa8f"
      },
      "execution_count": null,
      "outputs": [
        {
          "output_type": "stream",
          "name": "stdout",
          "text": [
            "mean of array : 43.333333333333336\n"
          ]
        }
      ]
    },
    {
      "cell_type": "code",
      "source": [
        "median=np.median(ucs420_shruti)\n",
        "print(\"median of array :\",median)"
      ],
      "metadata": {
        "colab": {
          "base_uri": "https://localhost:8080/"
        },
        "id": "pByJ-ao0nQmB",
        "outputId": "0ad83e76-b0a7-47d6-caf3-3234a5759e92"
      },
      "execution_count": null,
      "outputs": [
        {
          "output_type": "stream",
          "name": "stdout",
          "text": [
            "median of array : 37.5\n"
          ]
        }
      ]
    },
    {
      "cell_type": "code",
      "source": [
        "unique_elements=np.unique(ucs420_shruti)\n",
        "print(unique_elements)"
      ],
      "metadata": {
        "colab": {
          "base_uri": "https://localhost:8080/"
        },
        "id": "zjSOw5vanV9t",
        "outputId": "f93a6d57-218d-40cf-e3c4-4b46f6bffb81"
      },
      "execution_count": null,
      "outputs": [
        {
          "output_type": "stream",
          "name": "stdout",
          "text": [
            "[10 15 20 30 35 40 50 60 70 80 90]\n"
          ]
        }
      ]
    },
    {
      "cell_type": "code",
      "source": [
        "maxArr=ucs420_shruti.max()\n",
        "print(\"max. element in array :\",maxArr)"
      ],
      "metadata": {
        "colab": {
          "base_uri": "https://localhost:8080/"
        },
        "id": "hEWPfXifngDv",
        "outputId": "58d60c1b-84d4-4b4a-dfd1-56d8280f596a"
      },
      "execution_count": null,
      "outputs": [
        {
          "output_type": "stream",
          "name": "stdout",
          "text": [
            "max. element in array : 90\n"
          ]
        }
      ]
    },
    {
      "cell_type": "code",
      "source": [
        "minArr=ucs420_shruti.min()\n",
        "print(\"min. element in array :\",minArr)"
      ],
      "metadata": {
        "colab": {
          "base_uri": "https://localhost:8080/"
        },
        "id": "8P30Q_TPni3g",
        "outputId": "52bfe63e-f129-4e0f-a817-659a6e3744fd"
      },
      "execution_count": null,
      "outputs": [
        {
          "output_type": "stream",
          "name": "stdout",
          "text": [
            "min. element in array : 10\n"
          ]
        }
      ]
    },
    {
      "cell_type": "code",
      "source": [
        "reshaped_ucs420_shruti=ucs420_shruti.reshape(4,3)\n",
        "print(reshaped_ucs420_shruti)"
      ],
      "metadata": {
        "colab": {
          "base_uri": "https://localhost:8080/"
        },
        "id": "Dju8EQAQnpNK",
        "outputId": "d2ab546a-8d74-47ab-8008-88a822db0237"
      },
      "execution_count": null,
      "outputs": [
        {
          "output_type": "stream",
          "name": "stdout",
          "text": [
            "[[10 20 30]\n",
            " [40 50 60]\n",
            " [70 80 90]\n",
            " [15 20 35]]\n"
          ]
        }
      ]
    },
    {
      "cell_type": "code",
      "source": [
        "resized_ucs420_shruti=np.resize(ucs420_shruti,(2,3))\n",
        "resized_ucs420_shruti"
      ],
      "metadata": {
        "colab": {
          "base_uri": "https://localhost:8080/"
        },
        "id": "oR3FoILEnx93",
        "outputId": "67667f2b-efdb-4631-de0c-3741e8fd85b8"
      },
      "execution_count": null,
      "outputs": [
        {
          "output_type": "execute_result",
          "data": {
            "text/plain": [
              "array([[10, 20, 30],\n",
              "       [40, 50, 60]])"
            ]
          },
          "metadata": {},
          "execution_count": 31
        }
      ]
    }
  ]
}